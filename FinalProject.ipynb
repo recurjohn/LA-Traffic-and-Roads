{
 "cells": [
  {
   "cell_type": "markdown",
   "metadata": {},
   "source": [
    "# Introduction and Background \n",
    "\n",
    "- A12833641\n",
    "- A92137507\n",
    "- A12818326\n",
    "- A13128166\n",
    "\n",
    "\n",
    "The more geographical modifications and deteriorations on roads will have an increase on the amount of traffic. We predict this based on inferential statistics drawn from data using Kaggle. Also, the amount of potholes is determined by the possibility that people slow down when seeing and noticing these potholes. We are using our data to predict traffic speeds and also whether or not pot holes slow down traffic.  \n",
    "\n",
    "This is a question of interest because we spend numerous driving in our daily lives. Everyone knows peak traffic times, yet we have no choice to drive through it to get to our destinations. It is necessary to identify solutions to traffic, because then time can be spent elsewhere other than commuting from location to location. \n",
    "\n",
    "This question came into our hypothesis and thoughts because we thought about traffic around UCSD when driving to school and during heavy traffic hours. One example of this is during heavy traffic hours at 4-6:30 pm on Genesee Ave trying to get out of Regents Road to head home. People tend to go toward the 5 interstate to head south. Therefore, there is a lot of traffic and heavy construction on Genesee Ave and also there are only two open lanes which clogs up traffic and creates traffic for about 4-5 miles as an estimate. From this inference, we would like to evaluate road conditions to determine whether street construction and conditions affect the flow of traffic because of driver’s awareness.  \n",
    "\n",
    "Road conditions such as potholes or street constructions that include adding more lanes or obstructions to the road have been found to slow down traffic. This occurred to us when we tried driving in traffic hours and have been delayed ~30 mins because of these obstructions. We’ve decided to divulge and dig deeper into our studies of these road obstructions to see how much of a difference these obstructions cause. They are chaotic in a sense however, they become the main point of focus for drivers in the future because these constructions can lead to more safety driving and more sustainable roads.  \n",
    "\n",
    "\n",
    "References (include links):\n",
    "1) http://journals.sagepub.com/doi/full/10.1177/1687814015618176\n",
    "2)http://www.sandiegouniontribune.com/topic/disasters-accidents/transportation-disasters-accidents/traffic-accidents/03010001-topic.html\n",
    "Our project will consist of studying the flow of traffic due to traffic construction over time and the comparison of different data from different years. Our independent variable will be the amount of traffic obstructions such as potholes, constructions, and interferences that might draw the attention of drivers away from actual driving. Comparisons of the same intersections over the span of several years will give us the necessary information needed to make a correct and consistent inference. Our results for this project will tell us that traffic obstructions do make a difference in the flow of traffic in creating hazards on the roads. This type of hazard can lead to many accidents that are unnecessary and also from personal experience, the traffic may cause very unhappy drivers. \n",
    "\tIf our hypotheses and analyses are correct, the contribution to the project topic will be that it proves we need to find a more safe and sustainable way to expand roads and have a better way to lower car troubles. If our methods don’t work and our hypothesis isn’t true to the hypothesis or the null hypothesis is true, then it proves that the way that traffic is means it is alright and doesn’t have any problems and we should keep the system. Potential confounds to our data is the type of construction that occurs or if traffic flows at normal rates even with these obstructions. \n",
    "\n"
   ]
  },
  {
   "cell_type": "markdown",
   "metadata": {},
   "source": [
    "# Dataframe Links\n",
    "\n",
    "One of the dataframes was too large to upload (df_traffic), and instead we will include it in this cell.\n",
    "\n",
    "CSV df_traffic: https://data.lacounty.gov/api/views/uvew-g569/rows.csv?accessType=DOWNLOAD\n",
    "\n",
    "Link df_traffic: https://data.lacounty.gov/Transportation/Traffic-Count-Data/uvew-g569\n",
    "\n",
    "We will also include the other dataframe for completion.\n",
    "\n",
    "CSV df_roadconditions: https://data.lacity.org/api/views/yjxu-2kqq/rows.csv?accessType=DOWNLOAD\n",
    "\n",
    "\n",
    "Link df_roadconditions: https://data.lacity.org/A-Livable-and-Sustainable-City/Road-Surface-Condition-Map/d9rz-k88a/data"
   ]
  },
  {
   "cell_type": "markdown",
   "metadata": {},
   "source": [
    "# Imports "
   ]
  },
  {
   "cell_type": "code",
   "execution_count": 1,
   "metadata": {},
   "outputs": [
    {
     "name": "stderr",
     "output_type": "stream",
     "text": [
      "C:\\Anaconda3\\lib\\site-packages\\statsmodels\\compat\\pandas.py:56: FutureWarning: The pandas.core.datetools module is deprecated and will be removed in a future version. Please use the pandas.tseries module instead.\n",
      "  from pandas.core import datetools\n"
     ]
    }
   ],
   "source": [
    "%matplotlib inline\n",
    "\n",
    "import numpy as np\n",
    "import scipy as sp\n",
    "import pandas as pd\n",
    "import matplotlib.pyplot as plt\n",
    "import patsy\n",
    "import seaborn as sns\n",
    "import statsmodels.api as sm"
   ]
  },
  {
   "cell_type": "markdown",
   "metadata": {},
   "source": [
    "# Data Wrangling"
   ]
  },
  {
   "cell_type": "code",
   "execution_count": 2,
   "metadata": {
    "collapsed": true
   },
   "outputs": [],
   "source": [
    "# Load dataframe containing road conditions \n",
    "\n",
    "df_roadconditions = pd.read_csv('road_conditions.csv')"
   ]
  },
  {
   "cell_type": "code",
   "execution_count": 3,
   "metadata": {},
   "outputs": [
    {
     "data": {
      "text/html": [
       "<div>\n",
       "<style>\n",
       "    .dataframe thead tr:only-child th {\n",
       "        text-align: right;\n",
       "    }\n",
       "\n",
       "    .dataframe thead th {\n",
       "        text-align: left;\n",
       "    }\n",
       "\n",
       "    .dataframe tbody tr th {\n",
       "        vertical-align: top;\n",
       "    }\n",
       "</style>\n",
       "<table border=\"1\" class=\"dataframe\">\n",
       "  <thead>\n",
       "    <tr style=\"text-align: right;\">\n",
       "      <th></th>\n",
       "      <th>PCI</th>\n",
       "      <th>STATUS</th>\n",
       "      <th>the_geom</th>\n",
       "      <th>ST_NAME</th>\n",
       "    </tr>\n",
       "  </thead>\n",
       "  <tbody>\n",
       "    <tr>\n",
       "      <th>0</th>\n",
       "      <td>63</td>\n",
       "      <td>Fair</td>\n",
       "      <td>MULTILINESTRING ((-118.25407678912832 33.94611...</td>\n",
       "      <td>100TH ST</td>\n",
       "    </tr>\n",
       "    <tr>\n",
       "      <th>1</th>\n",
       "      <td>100</td>\n",
       "      <td>Good</td>\n",
       "      <td>MULTILINESTRING ((-118.2491085817743 33.946114...</td>\n",
       "      <td>100TH ST</td>\n",
       "    </tr>\n",
       "    <tr>\n",
       "      <th>2</th>\n",
       "      <td>16</td>\n",
       "      <td>Poor</td>\n",
       "      <td>MULTILINESTRING ((-118.23675014696774 33.94490...</td>\n",
       "      <td>101ST ST</td>\n",
       "    </tr>\n",
       "    <tr>\n",
       "      <th>3</th>\n",
       "      <td>16</td>\n",
       "      <td>Poor</td>\n",
       "      <td>MULTILINESTRING ((-118.28261188476995 33.94462...</td>\n",
       "      <td>101ST ST</td>\n",
       "    </tr>\n",
       "    <tr>\n",
       "      <th>4</th>\n",
       "      <td>27</td>\n",
       "      <td>Poor</td>\n",
       "      <td>MULTILINESTRING ((-118.28693908734667 33.94460...</td>\n",
       "      <td>101ST ST</td>\n",
       "    </tr>\n",
       "  </tbody>\n",
       "</table>\n",
       "</div>"
      ],
      "text/plain": [
       "   PCI STATUS                                           the_geom   ST_NAME\n",
       "0   63   Fair  MULTILINESTRING ((-118.25407678912832 33.94611...  100TH ST\n",
       "1  100   Good  MULTILINESTRING ((-118.2491085817743 33.946114...  100TH ST\n",
       "2   16   Poor  MULTILINESTRING ((-118.23675014696774 33.94490...  101ST ST\n",
       "3   16   Poor  MULTILINESTRING ((-118.28261188476995 33.94462...  101ST ST\n",
       "4   27   Poor  MULTILINESTRING ((-118.28693908734667 33.94460...  101ST ST"
      ]
     },
     "execution_count": 3,
     "metadata": {},
     "output_type": "execute_result"
    }
   ],
   "source": [
    "df_roadconditions.head()"
   ]
  },
  {
   "cell_type": "code",
   "execution_count": 4,
   "metadata": {
    "collapsed": true
   },
   "outputs": [],
   "source": [
    "df_roadconditions.drop('the_geom', axis=1, inplace=True)\n",
    "df_roadconditions.columns = ['PCI', 'STATUS','ST_NAME']"
   ]
  },
  {
   "cell_type": "code",
   "execution_count": 5,
   "metadata": {},
   "outputs": [
    {
     "data": {
      "text/html": [
       "<div>\n",
       "<style>\n",
       "    .dataframe thead tr:only-child th {\n",
       "        text-align: right;\n",
       "    }\n",
       "\n",
       "    .dataframe thead th {\n",
       "        text-align: left;\n",
       "    }\n",
       "\n",
       "    .dataframe tbody tr th {\n",
       "        vertical-align: top;\n",
       "    }\n",
       "</style>\n",
       "<table border=\"1\" class=\"dataframe\">\n",
       "  <thead>\n",
       "    <tr style=\"text-align: right;\">\n",
       "      <th></th>\n",
       "      <th>PCI</th>\n",
       "      <th>STATUS</th>\n",
       "      <th>ST_NAME</th>\n",
       "    </tr>\n",
       "  </thead>\n",
       "  <tbody>\n",
       "    <tr>\n",
       "      <th>0</th>\n",
       "      <td>63</td>\n",
       "      <td>Fair</td>\n",
       "      <td>100TH ST</td>\n",
       "    </tr>\n",
       "    <tr>\n",
       "      <th>1</th>\n",
       "      <td>100</td>\n",
       "      <td>Good</td>\n",
       "      <td>100TH ST</td>\n",
       "    </tr>\n",
       "    <tr>\n",
       "      <th>2</th>\n",
       "      <td>16</td>\n",
       "      <td>Poor</td>\n",
       "      <td>101ST ST</td>\n",
       "    </tr>\n",
       "    <tr>\n",
       "      <th>3</th>\n",
       "      <td>16</td>\n",
       "      <td>Poor</td>\n",
       "      <td>101ST ST</td>\n",
       "    </tr>\n",
       "    <tr>\n",
       "      <th>4</th>\n",
       "      <td>27</td>\n",
       "      <td>Poor</td>\n",
       "      <td>101ST ST</td>\n",
       "    </tr>\n",
       "  </tbody>\n",
       "</table>\n",
       "</div>"
      ],
      "text/plain": [
       "   PCI STATUS   ST_NAME\n",
       "0   63   Fair  100TH ST\n",
       "1  100   Good  100TH ST\n",
       "2   16   Poor  101ST ST\n",
       "3   16   Poor  101ST ST\n",
       "4   27   Poor  101ST ST"
      ]
     },
     "execution_count": 5,
     "metadata": {},
     "output_type": "execute_result"
    }
   ],
   "source": [
    "df_roadconditions.head()"
   ]
  },
  {
   "cell_type": "code",
   "execution_count": 6,
   "metadata": {
    "collapsed": true
   },
   "outputs": [],
   "source": [
    "# Load dataframe containing traffic counts \n",
    "\n",
    "df_traffic = pd.read_csv('traffic_conditions.csv')"
   ]
  },
  {
   "cell_type": "code",
   "execution_count": 7,
   "metadata": {},
   "outputs": [
    {
     "data": {
      "text/html": [
       "<div>\n",
       "<style>\n",
       "    .dataframe thead tr:only-child th {\n",
       "        text-align: right;\n",
       "    }\n",
       "\n",
       "    .dataframe thead th {\n",
       "        text-align: left;\n",
       "    }\n",
       "\n",
       "    .dataframe tbody tr th {\n",
       "        vertical-align: top;\n",
       "    }\n",
       "</style>\n",
       "<table border=\"1\" class=\"dataframe\">\n",
       "  <thead>\n",
       "    <tr style=\"text-align: right;\">\n",
       "      <th></th>\n",
       "      <th>Location</th>\n",
       "      <th>Count Date</th>\n",
       "      <th>Day</th>\n",
       "      <th>24 Hr. Total Vol.</th>\n",
       "    </tr>\n",
       "  </thead>\n",
       "  <tbody>\n",
       "    <tr>\n",
       "      <th>0</th>\n",
       "      <td>104TH STREET W/O BUDLONG AVENUE</td>\n",
       "      <td>10/12/2012 12:00:00 AM</td>\n",
       "      <td>Fri</td>\n",
       "      <td>136</td>\n",
       "    </tr>\n",
       "    <tr>\n",
       "      <th>1</th>\n",
       "      <td>104TH STREET W/O BUDLONG AVENUE</td>\n",
       "      <td>10/11/2012 12:00:00 AM</td>\n",
       "      <td>Thur</td>\n",
       "      <td>764</td>\n",
       "    </tr>\n",
       "    <tr>\n",
       "      <th>2</th>\n",
       "      <td>104TH STREET W/O BUDLONG AVENUE</td>\n",
       "      <td>10/10/2012 12:00:00 AM</td>\n",
       "      <td>Wed</td>\n",
       "      <td>833</td>\n",
       "    </tr>\n",
       "    <tr>\n",
       "      <th>3</th>\n",
       "      <td>104TH STREET W/O BUDLONG AVENUE</td>\n",
       "      <td>03/02/2008 12:00:00 AM</td>\n",
       "      <td>Sun</td>\n",
       "      <td>844</td>\n",
       "    </tr>\n",
       "    <tr>\n",
       "      <th>4</th>\n",
       "      <td>104TH STREET W/O BUDLONG AVENUE</td>\n",
       "      <td>03/01/2008 12:00:00 AM</td>\n",
       "      <td>Sat</td>\n",
       "      <td>907</td>\n",
       "    </tr>\n",
       "  </tbody>\n",
       "</table>\n",
       "</div>"
      ],
      "text/plain": [
       "                          Location              Count Date   Day  \\\n",
       "0  104TH STREET W/O BUDLONG AVENUE  10/12/2012 12:00:00 AM   Fri   \n",
       "1  104TH STREET W/O BUDLONG AVENUE  10/11/2012 12:00:00 AM  Thur   \n",
       "2  104TH STREET W/O BUDLONG AVENUE  10/10/2012 12:00:00 AM   Wed   \n",
       "3  104TH STREET W/O BUDLONG AVENUE  03/02/2008 12:00:00 AM   Sun   \n",
       "4  104TH STREET W/O BUDLONG AVENUE  03/01/2008 12:00:00 AM   Sat   \n",
       "\n",
       "   24 Hr. Total Vol.  \n",
       "0                136  \n",
       "1                764  \n",
       "2                833  \n",
       "3                844  \n",
       "4                907  "
      ]
     },
     "execution_count": 7,
     "metadata": {},
     "output_type": "execute_result"
    }
   ],
   "source": [
    "df_traffic.head()"
   ]
  },
  {
   "cell_type": "code",
   "execution_count": 8,
   "metadata": {},
   "outputs": [],
   "source": [
    "# Drop unnecessary columns \n",
    "\n",
    "df_traffic.drop(['Count Date', 'Day'], axis=1, inplace=True)"
   ]
  },
  {
   "cell_type": "code",
   "execution_count": 9,
   "metadata": {
    "collapsed": true
   },
   "outputs": [],
   "source": [
    "df_traffic.columns = ['ST_NAME', 'TRAFFIC']"
   ]
  },
  {
   "cell_type": "code",
   "execution_count": 10,
   "metadata": {},
   "outputs": [
    {
     "data": {
      "text/html": [
       "<div>\n",
       "<style>\n",
       "    .dataframe thead tr:only-child th {\n",
       "        text-align: right;\n",
       "    }\n",
       "\n",
       "    .dataframe thead th {\n",
       "        text-align: left;\n",
       "    }\n",
       "\n",
       "    .dataframe tbody tr th {\n",
       "        vertical-align: top;\n",
       "    }\n",
       "</style>\n",
       "<table border=\"1\" class=\"dataframe\">\n",
       "  <thead>\n",
       "    <tr style=\"text-align: right;\">\n",
       "      <th></th>\n",
       "      <th>ST_NAME</th>\n",
       "      <th>TRAFFIC</th>\n",
       "    </tr>\n",
       "  </thead>\n",
       "  <tbody>\n",
       "    <tr>\n",
       "      <th>0</th>\n",
       "      <td>104TH STREET W/O BUDLONG AVENUE</td>\n",
       "      <td>136</td>\n",
       "    </tr>\n",
       "    <tr>\n",
       "      <th>1</th>\n",
       "      <td>104TH STREET W/O BUDLONG AVENUE</td>\n",
       "      <td>764</td>\n",
       "    </tr>\n",
       "    <tr>\n",
       "      <th>2</th>\n",
       "      <td>104TH STREET W/O BUDLONG AVENUE</td>\n",
       "      <td>833</td>\n",
       "    </tr>\n",
       "    <tr>\n",
       "      <th>3</th>\n",
       "      <td>104TH STREET W/O BUDLONG AVENUE</td>\n",
       "      <td>844</td>\n",
       "    </tr>\n",
       "    <tr>\n",
       "      <th>4</th>\n",
       "      <td>104TH STREET W/O BUDLONG AVENUE</td>\n",
       "      <td>907</td>\n",
       "    </tr>\n",
       "  </tbody>\n",
       "</table>\n",
       "</div>"
      ],
      "text/plain": [
       "                           ST_NAME  TRAFFIC\n",
       "0  104TH STREET W/O BUDLONG AVENUE      136\n",
       "1  104TH STREET W/O BUDLONG AVENUE      764\n",
       "2  104TH STREET W/O BUDLONG AVENUE      833\n",
       "3  104TH STREET W/O BUDLONG AVENUE      844\n",
       "4  104TH STREET W/O BUDLONG AVENUE      907"
      ]
     },
     "execution_count": 10,
     "metadata": {},
     "output_type": "execute_result"
    }
   ],
   "source": [
    "df_traffic.head()"
   ]
  },
  {
   "cell_type": "markdown",
   "metadata": {},
   "source": [
    "# Data Cleaning"
   ]
  },
  {
   "cell_type": "code",
   "execution_count": 11,
   "metadata": {},
   "outputs": [
    {
     "name": "stdout",
     "output_type": "stream",
     "text": [
      "0 0\n"
     ]
    }
   ],
   "source": [
    "# Check for missing data values \n",
    "\n",
    "n_nanR = sum(np.isnan(df_roadconditions['PCI']))\n",
    "n_nanT = sum(np.isnan(df_traffic['TRAFFIC']))\n",
    "\n",
    "print(n_nanR, n_nanT)"
   ]
  },
  {
   "cell_type": "code",
   "execution_count": 12,
   "metadata": {
    "collapsed": true
   },
   "outputs": [],
   "source": [
    "# Since there are no missing values, there is no need to drop any rows"
   ]
  },
  {
   "cell_type": "code",
   "execution_count": 13,
   "metadata": {
    "collapsed": true,
    "scrolled": true
   },
   "outputs": [],
   "source": [
    "df_roadconditions = df_roadconditions.groupby('ST_NAME', as_index=False)[['PCI']].mean()"
   ]
  },
  {
   "cell_type": "code",
   "execution_count": 14,
   "metadata": {},
   "outputs": [
    {
     "data": {
      "text/html": [
       "<div>\n",
       "<style>\n",
       "    .dataframe thead tr:only-child th {\n",
       "        text-align: right;\n",
       "    }\n",
       "\n",
       "    .dataframe thead th {\n",
       "        text-align: left;\n",
       "    }\n",
       "\n",
       "    .dataframe tbody tr th {\n",
       "        vertical-align: top;\n",
       "    }\n",
       "</style>\n",
       "<table border=\"1\" class=\"dataframe\">\n",
       "  <thead>\n",
       "    <tr style=\"text-align: right;\">\n",
       "      <th></th>\n",
       "      <th>ST_NAME</th>\n",
       "      <th>PCI</th>\n",
       "    </tr>\n",
       "  </thead>\n",
       "  <tbody>\n",
       "    <tr>\n",
       "      <th>0</th>\n",
       "      <td>100TH ST</td>\n",
       "      <td>81.500000</td>\n",
       "    </tr>\n",
       "    <tr>\n",
       "      <th>1</th>\n",
       "      <td>101ST ST</td>\n",
       "      <td>67.368421</td>\n",
       "    </tr>\n",
       "    <tr>\n",
       "      <th>2</th>\n",
       "      <td>102ND ST</td>\n",
       "      <td>65.884615</td>\n",
       "    </tr>\n",
       "    <tr>\n",
       "      <th>3</th>\n",
       "      <td>103RD PL</td>\n",
       "      <td>65.333333</td>\n",
       "    </tr>\n",
       "    <tr>\n",
       "      <th>4</th>\n",
       "      <td>103RD ST</td>\n",
       "      <td>71.340000</td>\n",
       "    </tr>\n",
       "  </tbody>\n",
       "</table>\n",
       "</div>"
      ],
      "text/plain": [
       "    ST_NAME        PCI\n",
       "0  100TH ST  81.500000\n",
       "1  101ST ST  67.368421\n",
       "2  102ND ST  65.884615\n",
       "3  103RD PL  65.333333\n",
       "4  103RD ST  71.340000"
      ]
     },
     "execution_count": 14,
     "metadata": {},
     "output_type": "execute_result"
    }
   ],
   "source": [
    "df_roadconditions.head()"
   ]
  },
  {
   "cell_type": "code",
   "execution_count": 15,
   "metadata": {
    "collapsed": true
   },
   "outputs": [],
   "source": [
    "# Method to standardize street names to set them equal to each other in the two dataframes. \n",
    "\n",
    "def standardize_street(string):\n",
    "    \n",
    "    if string.find(\"STREET\") != -1:\n",
    "        output = string.partition(' ')\n",
    "        output = list(output)\n",
    "        output[0] = output[0] + \" ST\"\n",
    "    elif string.find(\"AVENUE\") != -1:\n",
    "        output = string.partition(' ')\n",
    "        output = list(output)\n",
    "        output[0] = output[0] + \" AVE\"\n",
    "    elif string.find(\"BOULEVARD\") != -1:\n",
    "        output = string.partition(' ')\n",
    "        output = list(output)\n",
    "        output[0] = output[0] + \" BLVD\"\n",
    "    elif string.find(\"PLACE\") != 1:\n",
    "        output = string.partition(' ')\n",
    "        output = list(output)\n",
    "        output[0] = output[0] + \" PL\"\n",
    "    elif string.find(\"DRIVE\") != 1:\n",
    "        output = string.partition(' ')\n",
    "        output = list(output)\n",
    "        output[0] = output[0] + \" DR\"\n",
    "    else: \n",
    "        output[0] = string\n",
    "        \n",
    "    return output[0]"
   ]
  },
  {
   "cell_type": "code",
   "execution_count": 16,
   "metadata": {
    "collapsed": true
   },
   "outputs": [],
   "source": [
    "df_traffic['ST_NAME'] = df_traffic['ST_NAME'].apply(standardize_street)"
   ]
  },
  {
   "cell_type": "code",
   "execution_count": 17,
   "metadata": {},
   "outputs": [
    {
     "data": {
      "text/html": [
       "<div>\n",
       "<style>\n",
       "    .dataframe thead tr:only-child th {\n",
       "        text-align: right;\n",
       "    }\n",
       "\n",
       "    .dataframe thead th {\n",
       "        text-align: left;\n",
       "    }\n",
       "\n",
       "    .dataframe tbody tr th {\n",
       "        vertical-align: top;\n",
       "    }\n",
       "</style>\n",
       "<table border=\"1\" class=\"dataframe\">\n",
       "  <thead>\n",
       "    <tr style=\"text-align: right;\">\n",
       "      <th></th>\n",
       "      <th>ST_NAME</th>\n",
       "      <th>TRAFFIC</th>\n",
       "    </tr>\n",
       "  </thead>\n",
       "  <tbody>\n",
       "    <tr>\n",
       "      <th>0</th>\n",
       "      <td>104TH ST</td>\n",
       "      <td>136</td>\n",
       "    </tr>\n",
       "    <tr>\n",
       "      <th>1</th>\n",
       "      <td>104TH ST</td>\n",
       "      <td>764</td>\n",
       "    </tr>\n",
       "    <tr>\n",
       "      <th>2</th>\n",
       "      <td>104TH ST</td>\n",
       "      <td>833</td>\n",
       "    </tr>\n",
       "    <tr>\n",
       "      <th>3</th>\n",
       "      <td>104TH ST</td>\n",
       "      <td>844</td>\n",
       "    </tr>\n",
       "    <tr>\n",
       "      <th>4</th>\n",
       "      <td>104TH ST</td>\n",
       "      <td>907</td>\n",
       "    </tr>\n",
       "  </tbody>\n",
       "</table>\n",
       "</div>"
      ],
      "text/plain": [
       "    ST_NAME  TRAFFIC\n",
       "0  104TH ST      136\n",
       "1  104TH ST      764\n",
       "2  104TH ST      833\n",
       "3  104TH ST      844\n",
       "4  104TH ST      907"
      ]
     },
     "execution_count": 17,
     "metadata": {},
     "output_type": "execute_result"
    }
   ],
   "source": [
    "# View new standardized street names. \n",
    "df_traffic.head()"
   ]
  },
  {
   "cell_type": "code",
   "execution_count": 18,
   "metadata": {
    "collapsed": true
   },
   "outputs": [],
   "source": [
    "df_traffic = df_traffic.groupby('ST_NAME', as_index=False)[['TRAFFIC']].mean()"
   ]
  },
  {
   "cell_type": "code",
   "execution_count": 19,
   "metadata": {},
   "outputs": [
    {
     "data": {
      "text/html": [
       "<div>\n",
       "<style>\n",
       "    .dataframe thead tr:only-child th {\n",
       "        text-align: right;\n",
       "    }\n",
       "\n",
       "    .dataframe thead th {\n",
       "        text-align: left;\n",
       "    }\n",
       "\n",
       "    .dataframe tbody tr th {\n",
       "        vertical-align: top;\n",
       "    }\n",
       "</style>\n",
       "<table border=\"1\" class=\"dataframe\">\n",
       "  <thead>\n",
       "    <tr style=\"text-align: right;\">\n",
       "      <th></th>\n",
       "      <th>ST_NAME</th>\n",
       "      <th>TRAFFIC</th>\n",
       "    </tr>\n",
       "  </thead>\n",
       "  <tbody>\n",
       "    <tr>\n",
       "      <th>0</th>\n",
       "      <td>100TH ST</td>\n",
       "      <td>79.000000</td>\n",
       "    </tr>\n",
       "    <tr>\n",
       "      <th>1</th>\n",
       "      <td>101ST ST</td>\n",
       "      <td>408.714286</td>\n",
       "    </tr>\n",
       "    <tr>\n",
       "      <th>2</th>\n",
       "      <td>102ND ST</td>\n",
       "      <td>669.666667</td>\n",
       "    </tr>\n",
       "    <tr>\n",
       "      <th>3</th>\n",
       "      <td>103RD ST</td>\n",
       "      <td>5463.142857</td>\n",
       "    </tr>\n",
       "    <tr>\n",
       "      <th>4</th>\n",
       "      <td>104TH ST</td>\n",
       "      <td>2197.000000</td>\n",
       "    </tr>\n",
       "  </tbody>\n",
       "</table>\n",
       "</div>"
      ],
      "text/plain": [
       "    ST_NAME      TRAFFIC\n",
       "0  100TH ST    79.000000\n",
       "1  101ST ST   408.714286\n",
       "2  102ND ST   669.666667\n",
       "3  103RD ST  5463.142857\n",
       "4  104TH ST  2197.000000"
      ]
     },
     "execution_count": 19,
     "metadata": {},
     "output_type": "execute_result"
    }
   ],
   "source": [
    "df_traffic.head()"
   ]
  },
  {
   "cell_type": "code",
   "execution_count": 20,
   "metadata": {},
   "outputs": [
    {
     "data": {
      "text/html": [
       "<div>\n",
       "<style>\n",
       "    .dataframe thead tr:only-child th {\n",
       "        text-align: right;\n",
       "    }\n",
       "\n",
       "    .dataframe thead th {\n",
       "        text-align: left;\n",
       "    }\n",
       "\n",
       "    .dataframe tbody tr th {\n",
       "        vertical-align: top;\n",
       "    }\n",
       "</style>\n",
       "<table border=\"1\" class=\"dataframe\">\n",
       "  <thead>\n",
       "    <tr style=\"text-align: right;\">\n",
       "      <th></th>\n",
       "      <th>ST_NAME</th>\n",
       "      <th>PCI</th>\n",
       "      <th>TRAFFIC</th>\n",
       "    </tr>\n",
       "  </thead>\n",
       "  <tbody>\n",
       "    <tr>\n",
       "      <th>0</th>\n",
       "      <td>100TH ST</td>\n",
       "      <td>81</td>\n",
       "      <td>79</td>\n",
       "    </tr>\n",
       "    <tr>\n",
       "      <th>1</th>\n",
       "      <td>101ST ST</td>\n",
       "      <td>67</td>\n",
       "      <td>408</td>\n",
       "    </tr>\n",
       "    <tr>\n",
       "      <th>2</th>\n",
       "      <td>102ND ST</td>\n",
       "      <td>65</td>\n",
       "      <td>669</td>\n",
       "    </tr>\n",
       "    <tr>\n",
       "      <th>3</th>\n",
       "      <td>103RD ST</td>\n",
       "      <td>71</td>\n",
       "      <td>5463</td>\n",
       "    </tr>\n",
       "    <tr>\n",
       "      <th>4</th>\n",
       "      <td>104TH ST</td>\n",
       "      <td>78</td>\n",
       "      <td>2197</td>\n",
       "    </tr>\n",
       "  </tbody>\n",
       "</table>\n",
       "</div>"
      ],
      "text/plain": [
       "    ST_NAME  PCI  TRAFFIC\n",
       "0  100TH ST   81       79\n",
       "1  101ST ST   67      408\n",
       "2  102ND ST   65      669\n",
       "3  103RD ST   71     5463\n",
       "4  104TH ST   78     2197"
      ]
     },
     "execution_count": 20,
     "metadata": {},
     "output_type": "execute_result"
    }
   ],
   "source": [
    "#df_roadconditions[df_roadconditions.ST_NAME.isin(df_traffic.ST_NAME)].reset_index()\n",
    "\n",
    "df_combined = pd.merge(df_roadconditions, df_traffic, on='ST_NAME')\n",
    "df_combined.PCI = df_combined.PCI.astype(int)\n",
    "df_combined.TRAFFIC = df_combined.TRAFFIC.astype(int)\n",
    "df_combined.head()"
   ]
  },
  {
   "cell_type": "markdown",
   "metadata": {},
   "source": [
    "# Visualizing Data"
   ]
  },
  {
   "cell_type": "code",
   "execution_count": 21,
   "metadata": {},
   "outputs": [
    {
     "data": {
      "image/png": "[encoded data removed]",
      "text/plain": [
       "<matplotlib.figure.Figure at 0x660ac36dd8>"
      ]
     },
     "metadata": {},
     "output_type": "display_data"
    }
   ],
   "source": [
    "# Histogram of the PCI\n",
    "\n",
    "_ = plt.hist(df_combined['PCI'], 25)\n",
    "f1 = plt.gcf()"
   ]
  },
  {
   "cell_type": "code",
   "execution_count": 22,
   "metadata": {},
   "outputs": [
    {
     "data": {
      "image/png": "[encoded data removed]",
      "text/plain": [
       "<matplotlib.figure.Figure at 0x660acb93c8>"
      ]
     },
     "metadata": {},
     "output_type": "display_data"
    }
   ],
   "source": [
    "# Histogram of the Traffic\n",
    "\n",
    "_2 = plt.hist(df_combined['TRAFFIC'], 25)\n",
    "f1 = plt.gcf()"
   ]
  },
  {
   "cell_type": "code",
   "execution_count": 23,
   "metadata": {},
   "outputs": [
    {
     "data": {
      "image/png": "[encoded data removed]",
      "text/plain": [
       "<matplotlib.figure.Figure at 0x660aac3c18>"
      ]
     },
     "metadata": {},
     "output_type": "display_data"
    }
   ],
   "source": [
    "# Bar Graph of Traffic vs PCI\n",
    "\n",
    "ax = df_combined[['PCI','TRAFFIC']].plot(kind='bar', title =\"Traffic vs PCI\", figsize=(15, 10), legend=True, fontsize=12)\n",
    "ax.set_xlabel(\"PCI\", fontsize=12)\n",
    "ax.set_ylabel(\"TRAFFIC\", fontsize=12)\n",
    "plt.show()"
   ]
  },
  {
   "cell_type": "code",
   "execution_count": 24,
   "metadata": {},
   "outputs": [
    {
     "data": {
      "text/plain": [
       "<matplotlib.axes._subplots.AxesSubplot at 0x660afe8a20>"
      ]
     },
     "execution_count": 24,
     "metadata": {},
     "output_type": "execute_result"
    },
    {
     "data": {
      "image/png": "[encoded data removed]",
      "text/plain": [
       "<matplotlib.figure.Figure at 0x660af9f4e0>"
      ]
     },
     "metadata": {},
     "output_type": "display_data"
    }
   ],
   "source": [
    "# Seaborn plot\n",
    "\n",
    "sns.regplot(x = 'PCI', y = 'TRAFFIC', data=df_combined)"
   ]
  },
  {
   "cell_type": "markdown",
   "metadata": {},
   "source": [
    "# Data Analysis"
   ]
  },
  {
   "cell_type": "code",
   "execution_count": 25,
   "metadata": {},
   "outputs": [
    {
     "data": {
      "text/html": [
       "<div>\n",
       "<style>\n",
       "    .dataframe thead tr:only-child th {\n",
       "        text-align: right;\n",
       "    }\n",
       "\n",
       "    .dataframe thead th {\n",
       "        text-align: left;\n",
       "    }\n",
       "\n",
       "    .dataframe tbody tr th {\n",
       "        vertical-align: top;\n",
       "    }\n",
       "</style>\n",
       "<table border=\"1\" class=\"dataframe\">\n",
       "  <thead>\n",
       "    <tr style=\"text-align: right;\">\n",
       "      <th></th>\n",
       "      <th>PCI</th>\n",
       "      <th>TRAFFIC</th>\n",
       "    </tr>\n",
       "  </thead>\n",
       "  <tbody>\n",
       "    <tr>\n",
       "      <th>PCI</th>\n",
       "      <td>1.000000</td>\n",
       "      <td>-0.062727</td>\n",
       "    </tr>\n",
       "    <tr>\n",
       "      <th>TRAFFIC</th>\n",
       "      <td>-0.062727</td>\n",
       "      <td>1.000000</td>\n",
       "    </tr>\n",
       "  </tbody>\n",
       "</table>\n",
       "</div>"
      ],
      "text/plain": [
       "              PCI   TRAFFIC\n",
       "PCI      1.000000 -0.062727\n",
       "TRAFFIC -0.062727  1.000000"
      ]
     },
     "execution_count": 25,
     "metadata": {},
     "output_type": "execute_result"
    }
   ],
   "source": [
    "# Correlation calculation\n",
    "\n",
    "df_combined[['PCI', 'TRAFFIC']].corr()"
   ]
  },
  {
   "cell_type": "markdown",
   "metadata": {
    "collapsed": true
   },
   "source": [
    "We gather the correlation coefficient and find that it is equal to -0.062727. The negative sign corresponds to the fact that the two variables move into the opposite directions, meaning that it is common for the two variables PCI and TRAFFIC to be inverse to each other (as in if one is high in value, the other is low). Because the value is so low and not equal to 1 or -1, there is no clear linear relation between the two variables. However, this could mean that there is a non-linear relation. "
   ]
  },
  {
   "cell_type": "code",
   "execution_count": 26,
   "metadata": {},
   "outputs": [
    {
     "name": "stdout",
     "output_type": "stream",
     "text": [
      "                            OLS Regression Results                            \n",
      "==============================================================================\n",
      "Dep. Variable:                    PCI   R-squared:                       0.004\n",
      "Model:                            OLS   Adj. R-squared:                  0.001\n",
      "Method:                 Least Squares   F-statistic:                     1.450\n",
      "Date:                Thu, 22 Mar 2018   Prob (F-statistic):              0.229\n",
      "Time:                        23:30:30   Log-Likelihood:                -1578.4\n",
      "No. Observations:                 369   AIC:                             3161.\n",
      "Df Residuals:                     367   BIC:                             3169.\n",
      "Df Model:                           1                                         \n",
      "Covariance Type:            nonrobust                                         \n",
      "==============================================================================\n",
      "                 coef    std err          t      P>|t|      [0.025      0.975]\n",
      "------------------------------------------------------------------------------\n",
      "Intercept     73.7584      1.084     68.024      0.000      71.626      75.891\n",
      "TRAFFIC       -0.0001      0.000     -1.204      0.229      -0.000    9.36e-05\n",
      "==============================================================================\n",
      "Omnibus:                       56.752   Durbin-Watson:                   2.114\n",
      "Prob(Omnibus):                  0.000   Jarque-Bera (JB):               88.528\n",
      "Skew:                          -0.946   Prob(JB):                     5.98e-20\n",
      "Kurtosis:                       4.476   Cond. No.                     1.05e+04\n",
      "==============================================================================\n",
      "\n",
      "Warnings:\n",
      "[1] Standard Errors assume that the covariance matrix of the errors is correctly specified.\n",
      "[2] The condition number is large, 1.05e+04. This might indicate that there are\n",
      "strong multicollinearity or other numerical problems.\n"
     ]
    }
   ],
   "source": [
    "# OLS on PCI and traffic \n",
    "\n",
    "outcome, predictors = patsy.dmatrices('PCI ~ TRAFFIC', df_combined)\n",
    "mod = sm.OLS(outcome, predictors)\n",
    "res = mod.fit()\n",
    "print(res.summary())"
   ]
  },
  {
   "cell_type": "markdown",
   "metadata": {},
   "source": [
    "We created an OLS linear model to confirm our belief that there may not be a linear correlation. The R-squared value is 0.004, a very small number that determines this may not be the best model to use to analyze the data. The P>|t| value is 0.229, which is less than 1. This also supports that traffic does not significantly predict the road conditions. "
   ]
  },
  {
   "cell_type": "markdown",
   "metadata": {},
   "source": [
    "Our null hypothesis for our data was that things should stay the way they are right now and geographical modifications and deteriorations on roads have no effect on why there is so much traffic and thus, there is something else that causes an increase in traffic such as overpopulation of cars or slow drivers. \n",
    "\n",
    "Our alternative hypothesis is that geographical modifications and deteriorations do have an effect on the increase in traffic.\n",
    "\n",
    "The data we found was based on three criterias. The first criteria was the description of the street name, the road condition and the 24 hour volume of the road - which basically means how many drivers are on this road on a 24 hour turnaround. We used data wrangling to determine the status of the road on a scale ranging from good, fair, and poor. We checked our data for missing values and determined there were no missing values so there was no need to drop rows. We rated the road conditions with the value \"PCI\" which means *the higher PCI is the better road conditions are.* We plotted these points on a graph and determined from our data that the amount of PCI and traffic does vary based on the amount of geographical modifications and deteriorations because of confounds such as populated areas and more people driving on roads. More populated areas results in a higher amount of PCI and a higher amount of traffic whereas a less populated will have less PCI and a lower amount of traffic. That means areas with lower traffic will have more deterioration because it isn't as maintained as high volume traffic areas. However, from our data, we also see an influx in the amount of traffic based on the PCI in the more extreme side of our graph. It shows that we retain our null hypothesis because geographical modifications and deteriorations occur LESS on roads with high volumes of traffic. We can conclude that the government actually takes the time to maintain these roads because of the high volume of traffic in order to maintain safety for drivers in traffic situations. Thus, the traffic is due to another confound that we didn't analyzed such as high population in Los Angeles County or something else. "
   ]
  },
  {
   "cell_type": "markdown",
   "metadata": {
    "collapsed": true
   },
   "source": [
    "# Privacy and Ethics Considerations\n",
    "\n",
    "The data is available on the the City of Los Angeles’ public website and, thus, is available for use.\n",
    "There appear to be no privacy concerns regarding the datasets. However, there are terms of use that our group must comply with. Accordingly, we must be wary that we do not crawl at a disruptive rate. \n",
    "There is a potential bias in the dataset as to what locations are recorded. For instance, it is not specified on any descriptions of the dataset as to whether certain areas were excluded from the data, perhaps for sociopolitical reasons or lack of technology in certain areas. However, because traffic data is pulled from traffic sensors, all relevant stakeholders that affect traffic (i.e. citizens who drive cars) are included.\n",
    "Because it is government information of the city of LA, all of the information is collected by the government from the people. Data is presumably pulled from traffic sensors and is, thus, noninvasive. People who are driving in pubic are presumed to be wary of their activity in public and do not necessarily wish to keep things private. However, implementation of data gathering can differ city by city and if, for example, data were to be pulled via smartphone then, perhaps, citizens would feel concerned about privacy. Regardless, data collected is measured in frequency and counts in terms of traffic and does not specify who, making privacy less of an issue. Furthermore, this could raise potential questions on equitable impact. However, because traffic data is pulled from traffic sensors, all the relevant aforementioned stakeholders that affect traffic (i.e. citizens who drive cars) should be included.\n"
   ]
  },
  {
   "cell_type": "markdown",
   "metadata": {
    "collapsed": true
   },
   "source": [
    "# Conclusions and Discussion\n",
    "\n",
    "Based on our data, we concluded to retain the null hypothesis. There does not appear to be any type of clear correlation between the two variables PCI and TRAFFIC. Despite this, however, we found that there is a strong grouping of an inverse relationship (as seen in the -0.062727 correlation coefficient and in the Seaborn graph). However, because there is no clear correlation we cannot conclude that road conditions affect traffic.\n",
    "\n",
    "For the future, it would be worth noticing the negative correlation and how it may potentially have a correlation in a different type of dataset, i.e a different city or region. It would also be interesting to support this project in the future with certain dates or times. "
   ]
  },
  {
   "cell_type": "markdown",
   "metadata": {
    "collapsed": true
   },
   "source": [
    "# Contributions\n",
    "\n",
    "Austin and John worked on the Data Wrangling and Data Cleaning sections, while Henry and Ryan worked on the Data Visualization and Data Analysis sections. \n",
    "\n",
    "However in general we all contributed to this project equally and helped each other on parts that were complicated. We lifted each other's weaknesses and helped each other while applying the strengths we had to the project. Overall, this project helped us understand data science on another level and we helped each other understand any confusing parts."
   ]
  }
 ],
 "metadata": {
  "kernelspec": {
   "display_name": "Python 3",
   "language": "python",
   "name": "python3"
  },
  "language_info": {
   "codemirror_mode": {
    "name": "ipython",
    "version": 3
   },
   "file_extension": ".py",
   "mimetype": "text/x-python",
   "name": "python",
   "nbconvert_exporter": "python",
   "pygments_lexer": "ipython3",
   "version": "3.6.3"
  }
 },
 "nbformat": 4,
 "nbformat_minor": 2
}
